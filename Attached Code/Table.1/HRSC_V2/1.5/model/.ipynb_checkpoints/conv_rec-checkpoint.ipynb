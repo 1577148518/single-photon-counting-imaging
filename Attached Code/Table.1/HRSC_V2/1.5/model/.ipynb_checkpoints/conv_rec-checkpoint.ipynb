{
 "cells": [
  {
   "cell_type": "code",
   "execution_count": 1,
   "metadata": {
    "scrolled": true
   },
   "outputs": [
    {
     "name": "stdout",
     "output_type": "stream",
     "text": [
      "start.......\n",
      "rate is  0.015625\n",
      "x: Tensor(\"Placeholder:0\", shape=(?, 128, 128, 1), dtype=float32)\n",
      "div_num: 8\n",
      "img: Tensor(\"concat_62:0\", shape=(?, 128, 128, 1), dtype=float32)\n",
      "conv1_w: <tf.Variable 'Variable:0' shape=(32, 32, 1, 16) dtype=float32_ref>\n",
      "conv1: Tensor(\"Conv2D:0\", shape=(?, 4, 4, 16), dtype=float32)\n",
      "pixel1 Tensor(\"Reshape_1:0\", shape=(?, 16, 16, 1), dtype=float32)\n",
      "recov_conv1_w: <tf.Variable 'Variable_1:0' shape=(4, 4, 1, 1024) dtype=float32_ref>\n",
      "recov_conv1: Tensor(\"Relu:0\", shape=(?, 4, 4, 1024), dtype=float32)\n",
      "pixel2 Tensor(\"Reshape_3:0\", shape=(?, 128, 128, 1), dtype=float32)\n",
      "div_num: 8\n",
      " [*] Reading checkpoints...\n",
      " [!] Load failed...\n",
      "Training...\n",
      "(19974, 128, 128, 1)\n",
      "Epoch: [ 1], step: [10], time: [5.2420], loss: [0.29571009]\n",
      "Epoch: [ 1], step: [20], time: [5.6130], loss: [0.28046337]\n",
      "Epoch: [ 1], step: [30], time: [5.8583], loss: [0.25548828]\n",
      "Epoch: [ 1], step: [40], time: [6.1027], loss: [0.28070223]\n",
      "Epoch: [ 1], step: [50], time: [6.4278], loss: [0.26741800]\n",
      "Epoch: [ 1], step: [60], time: [6.6851], loss: [0.27277851]\n",
      "Epoch: [ 1], step: [70], time: [6.9365], loss: [0.26423648]\n",
      "Epoch: [ 1], step: [80], time: [7.1778], loss: [0.25827372]\n",
      "Epoch: [ 1], step: [90], time: [7.4222], loss: [0.25109258]\n",
      "Epoch: [ 1], step: [100], time: [7.6635], loss: [0.28079030]\n",
      "Epoch: [ 1], step: [110], time: [7.9079], loss: [0.28087652]\n",
      "Epoch: [ 1], step: [120], time: [8.1502], loss: [0.25521523]\n",
      "Epoch: [ 1], step: [130], time: [8.4055], loss: [0.25645581]\n",
      "Epoch: [ 1], step: [140], time: [8.6658], loss: [0.25738034]\n",
      "Epoch: [ 1], step: [150], time: [8.9221], loss: [0.25720531]\n",
      "(19974, 128, 128, 1)\n",
      "Epoch: [ 2], step: [160], time: [11.9929], loss: [0.26512524]\n",
      "Epoch: [ 2], step: [170], time: [12.2403], loss: [0.23189725]\n",
      "Epoch: [ 2], step: [180], time: [12.4956], loss: [0.22477560]\n",
      "Epoch: [ 2], step: [190], time: [12.7539], loss: [0.21824759]\n",
      "Epoch: [ 2], step: [200], time: [13.0142], loss: [0.21685345]\n",
      "Epoch: [ 2], step: [210], time: [13.2585], loss: [0.21010113]\n",
      "Epoch: [ 2], step: [220], time: [13.4979], loss: [0.19406760]\n",
      "Epoch: [ 2], step: [230], time: [13.7403], loss: [0.20578706]\n",
      "Epoch: [ 2], step: [240], time: [13.9776], loss: [0.19534263]\n",
      "Epoch: [ 2], step: [250], time: [14.2200], loss: [0.18498747]\n",
      "Epoch: [ 2], step: [260], time: [14.4613], loss: [0.16384168]\n",
      "Epoch: [ 2], step: [270], time: [14.7067], loss: [0.15552723]\n",
      "Epoch: [ 2], step: [280], time: [14.9470], loss: [0.16752736]\n"
     ]
    },
    {
     "ename": "KeyboardInterrupt",
     "evalue": "",
     "output_type": "error",
     "traceback": [
      "\u001b[1;31m---------------------------------------------------------------------------\u001b[0m",
      "\u001b[1;31mKeyboardInterrupt\u001b[0m                         Traceback (most recent call last)",
      "\u001b[1;32m<ipython-input-1-6775952f1be4>\u001b[0m in \u001b[0;36m<module>\u001b[1;34m\u001b[0m\n\u001b[0;32m     46\u001b[0m \u001b[1;33m\u001b[0m\u001b[0m\n\u001b[0;32m     47\u001b[0m \u001b[1;32mif\u001b[0m \u001b[0m__name__\u001b[0m \u001b[1;33m==\u001b[0m \u001b[1;34m'__main__'\u001b[0m\u001b[1;33m:\u001b[0m\u001b[1;33m\u001b[0m\u001b[0m\n\u001b[1;32m---> 48\u001b[1;33m         \u001b[0mtf\u001b[0m\u001b[1;33m.\u001b[0m\u001b[0mapp\u001b[0m\u001b[1;33m.\u001b[0m\u001b[0mrun\u001b[0m\u001b[1;33m(\u001b[0m\u001b[1;33m)\u001b[0m\u001b[1;33m\u001b[0m\u001b[0m\n\u001b[0m",
      "\u001b[1;32md:\\study_software\\python\\lib\\site-packages\\tensorflow\\python\\platform\\app.py\u001b[0m in \u001b[0;36mrun\u001b[1;34m(main, argv)\u001b[0m\n\u001b[0;32m    123\u001b[0m   \u001b[1;31m# Call the main function, passing through any arguments\u001b[0m\u001b[1;33m\u001b[0m\u001b[1;33m\u001b[0m\u001b[0m\n\u001b[0;32m    124\u001b[0m   \u001b[1;31m# to the final program.\u001b[0m\u001b[1;33m\u001b[0m\u001b[1;33m\u001b[0m\u001b[0m\n\u001b[1;32m--> 125\u001b[1;33m   \u001b[0m_sys\u001b[0m\u001b[1;33m.\u001b[0m\u001b[0mexit\u001b[0m\u001b[1;33m(\u001b[0m\u001b[0mmain\u001b[0m\u001b[1;33m(\u001b[0m\u001b[0margv\u001b[0m\u001b[1;33m)\u001b[0m\u001b[1;33m)\u001b[0m\u001b[1;33m\u001b[0m\u001b[0m\n\u001b[0m\u001b[0;32m    126\u001b[0m \u001b[1;33m\u001b[0m\u001b[0m\n",
      "\u001b[1;32m<ipython-input-1-6775952f1be4>\u001b[0m in \u001b[0;36mmain\u001b[1;34m(_)\u001b[0m\n\u001b[0;32m     41\u001b[0m         \u001b[1;31m#               nx, ny = input_setup(FLAGS)\u001b[0m\u001b[1;33m\u001b[0m\u001b[1;33m\u001b[0m\u001b[0m\n\u001b[0;32m     42\u001b[0m \u001b[1;33m\u001b[0m\u001b[0m\n\u001b[1;32m---> 43\u001b[1;33m         \u001b[0mbackward\u001b[0m\u001b[1;33m(\u001b[0m\u001b[1;36m0\u001b[0m\u001b[1;33m,\u001b[0m\u001b[1;36m0\u001b[0m\u001b[1;33m)\u001b[0m\u001b[1;33m\u001b[0m\u001b[0m\n\u001b[0m\u001b[0;32m     44\u001b[0m         \u001b[1;31m#backward(nx,ny)\u001b[0m\u001b[1;33m\u001b[0m\u001b[1;33m\u001b[0m\u001b[0m\n\u001b[0;32m     45\u001b[0m \u001b[1;33m\u001b[0m\u001b[0m\n",
      "\u001b[1;32m~\\Desktop\\lwc\\code\\SRSC_V2\\1.5%_2\\backward.py\u001b[0m in \u001b[0;36mbackward\u001b[1;34m(nx, ny)\u001b[0m\n\u001b[0;32m    112\u001b[0m                                         \u001b[0mcounter\u001b[0m \u001b[1;33m+=\u001b[0m \u001b[1;36m1\u001b[0m\u001b[1;33m\u001b[0m\u001b[0m\n\u001b[0;32m    113\u001b[0m \u001b[1;33m\u001b[0m\u001b[0m\n\u001b[1;32m--> 114\u001b[1;33m                                         \u001b[0m_\u001b[0m\u001b[1;33m,\u001b[0m\u001b[0msummary\u001b[0m\u001b[1;33m,\u001b[0m \u001b[0merr\u001b[0m \u001b[1;33m=\u001b[0m \u001b[0msess\u001b[0m\u001b[1;33m.\u001b[0m\u001b[0mrun\u001b[0m\u001b[1;33m(\u001b[0m\u001b[1;33m[\u001b[0m\u001b[0mtrain_op\u001b[0m\u001b[1;33m,\u001b[0m\u001b[0mmerged\u001b[0m\u001b[1;33m,\u001b[0m\u001b[0mloss\u001b[0m\u001b[1;33m]\u001b[0m\u001b[1;33m,\u001b[0m \u001b[0mfeed_dict\u001b[0m\u001b[1;33m=\u001b[0m\u001b[1;33m{\u001b[0m\u001b[0mimages\u001b[0m\u001b[1;33m:\u001b[0m \u001b[0mbatch_images\u001b[0m\u001b[1;33m,\u001b[0m \u001b[0mlabels\u001b[0m\u001b[1;33m:\u001b[0m \u001b[0mbatch_labels\u001b[0m\u001b[1;33m}\u001b[0m\u001b[1;33m)\u001b[0m\u001b[1;33m\u001b[0m\u001b[0m\n\u001b[0m\u001b[0;32m    115\u001b[0m                                         \u001b[0mval_err\u001b[0m \u001b[1;33m=\u001b[0m \u001b[0msess\u001b[0m\u001b[1;33m.\u001b[0m\u001b[0mrun\u001b[0m\u001b[1;33m(\u001b[0m\u001b[0mloss\u001b[0m\u001b[1;33m,\u001b[0m\u001b[0mfeed_dict\u001b[0m\u001b[1;33m=\u001b[0m\u001b[1;33m{\u001b[0m\u001b[0mimages\u001b[0m\u001b[1;33m:\u001b[0m \u001b[0mbatch_images_test\u001b[0m\u001b[1;33m,\u001b[0m \u001b[0mlabels\u001b[0m\u001b[1;33m:\u001b[0m \u001b[0mbatch_labels_test\u001b[0m\u001b[1;33m}\u001b[0m\u001b[1;33m)\u001b[0m\u001b[1;33m\u001b[0m\u001b[0m\n\u001b[0;32m    116\u001b[0m \u001b[1;33m\u001b[0m\u001b[0m\n",
      "\u001b[1;32md:\\study_software\\python\\lib\\site-packages\\tensorflow\\python\\client\\session.py\u001b[0m in \u001b[0;36mrun\u001b[1;34m(self, fetches, feed_dict, options, run_metadata)\u001b[0m\n\u001b[0;32m    927\u001b[0m     \u001b[1;32mtry\u001b[0m\u001b[1;33m:\u001b[0m\u001b[1;33m\u001b[0m\u001b[0m\n\u001b[0;32m    928\u001b[0m       result = self._run(None, fetches, feed_dict, options_ptr,\n\u001b[1;32m--> 929\u001b[1;33m                          run_metadata_ptr)\n\u001b[0m\u001b[0;32m    930\u001b[0m       \u001b[1;32mif\u001b[0m \u001b[0mrun_metadata\u001b[0m\u001b[1;33m:\u001b[0m\u001b[1;33m\u001b[0m\u001b[0m\n\u001b[0;32m    931\u001b[0m         \u001b[0mproto_data\u001b[0m \u001b[1;33m=\u001b[0m \u001b[0mtf_session\u001b[0m\u001b[1;33m.\u001b[0m\u001b[0mTF_GetBuffer\u001b[0m\u001b[1;33m(\u001b[0m\u001b[0mrun_metadata_ptr\u001b[0m\u001b[1;33m)\u001b[0m\u001b[1;33m\u001b[0m\u001b[0m\n",
      "\u001b[1;32md:\\study_software\\python\\lib\\site-packages\\tensorflow\\python\\client\\session.py\u001b[0m in \u001b[0;36m_run\u001b[1;34m(self, handle, fetches, feed_dict, options, run_metadata)\u001b[0m\n\u001b[0;32m   1119\u001b[0m             \u001b[0mfeed_handles\u001b[0m\u001b[1;33m[\u001b[0m\u001b[0msubfeed_t\u001b[0m\u001b[1;33m]\u001b[0m \u001b[1;33m=\u001b[0m \u001b[0msubfeed_val\u001b[0m\u001b[1;33m\u001b[0m\u001b[0m\n\u001b[0;32m   1120\u001b[0m           \u001b[1;32melse\u001b[0m\u001b[1;33m:\u001b[0m\u001b[1;33m\u001b[0m\u001b[0m\n\u001b[1;32m-> 1121\u001b[1;33m             \u001b[0mnp_val\u001b[0m \u001b[1;33m=\u001b[0m \u001b[0mnp\u001b[0m\u001b[1;33m.\u001b[0m\u001b[0masarray\u001b[0m\u001b[1;33m(\u001b[0m\u001b[0msubfeed_val\u001b[0m\u001b[1;33m,\u001b[0m \u001b[0mdtype\u001b[0m\u001b[1;33m=\u001b[0m\u001b[0msubfeed_dtype\u001b[0m\u001b[1;33m)\u001b[0m\u001b[1;33m\u001b[0m\u001b[0m\n\u001b[0m\u001b[0;32m   1122\u001b[0m \u001b[1;33m\u001b[0m\u001b[0m\n\u001b[0;32m   1123\u001b[0m           if (not is_tensor_handle_feed and\n",
      "\u001b[1;32md:\\study_software\\python\\lib\\site-packages\\numpy\\core\\_asarray.py\u001b[0m in \u001b[0;36masarray\u001b[1;34m(a, dtype, order)\u001b[0m\n\u001b[0;32m     83\u001b[0m \u001b[1;33m\u001b[0m\u001b[0m\n\u001b[0;32m     84\u001b[0m     \"\"\"\n\u001b[1;32m---> 85\u001b[1;33m     \u001b[1;32mreturn\u001b[0m \u001b[0marray\u001b[0m\u001b[1;33m(\u001b[0m\u001b[0ma\u001b[0m\u001b[1;33m,\u001b[0m \u001b[0mdtype\u001b[0m\u001b[1;33m,\u001b[0m \u001b[0mcopy\u001b[0m\u001b[1;33m=\u001b[0m\u001b[1;32mFalse\u001b[0m\u001b[1;33m,\u001b[0m \u001b[0morder\u001b[0m\u001b[1;33m=\u001b[0m\u001b[0morder\u001b[0m\u001b[1;33m)\u001b[0m\u001b[1;33m\u001b[0m\u001b[0m\n\u001b[0m\u001b[0;32m     86\u001b[0m \u001b[1;33m\u001b[0m\u001b[0m\n\u001b[0;32m     87\u001b[0m \u001b[1;33m\u001b[0m\u001b[0m\n",
      "\u001b[1;31mKeyboardInterrupt\u001b[0m: "
     ]
    }
   ],
   "source": [
    "# %load main.py\n",
    "import tensorflow as tf\n",
    "from tools import make_dir\n",
    "from tools import input_setup\n",
    "\n",
    "from backward import backward\n",
    "\n",
    "flags = tf.app.flags\n",
    "flags.DEFINE_integer(\"epoch\",         10000,   \"Number of epoch [15000]\")\n",
    "flags.DEFINE_integer(\"batch_size\",    128,     \"The size of batch images [128]\")\n",
    "flags.DEFINE_integer(\"image_size\",    128,      \"The size of image to use [28]\")\n",
    "flags.DEFINE_integer(\"label_size\",    128,      \"The size of label to produce [28]\")\n",
    "flags.DEFINE_integer(\"conv_core\",     32,      \"The size of label to produce [28]\")\n",
    "flags.DEFINE_integer(\"c_dim\", 1, \"Dimension of image color. [1]\")\n",
    "flags.DEFINE_integer(\"sample_times\",   16, \"the sample_rate\")\n",
    "flags.DEFINE_float(\"learning_rate\",   0.00001,   \"The learning rate of gradient descent algorithm [1e-4]\")\n",
    "flags.DEFINE_float(\"learding_rate_delay\",1,\"The learning rate decay\")\n",
    "flags.DEFINE_float(\"REGULARIZER\",0.0001,\"REGULARIZER\")\n",
    "flags.DEFINE_integer(\"scale\", 3, \"The size of scale factor for preprocessing input image [3]\")\n",
    "flags.DEFINE_integer(\"div_fac\",   2, \"the div fac\")\n",
    "flags.DEFINE_integer(\"stride\", 10, \"The size of stride to apply input image [14]\")\n",
    "flags.DEFINE_string(\"checkpoint_dir\", \"checkpoint\", \"Name of checkpoint directory [checkpoint]\")\n",
    "flags.DEFINE_string(\"sample_dir\", \"sample\", \"Name of sample directory [sample]\")\n",
    "flags.DEFINE_boolean(\"is_train\", True, \"True for training, False for testing [True]\")\n",
    "\n",
    "FLAGS = flags.FLAGS\n",
    "\n",
    "def main(_):\n",
    "\tgpu_options = tf.GPUOptions(per_process_gpu_memory_fraction=0.1)  \n",
    "\tsess = tf.Session(config=tf.ConfigProto(gpu_options=gpu_options))\n",
    "\tprint(\"start.......\")\n",
    "\tprint(\"rate is \",FLAGS.sample_times/1024)\n",
    "\t\n",
    "\tmake_dir()\n",
    "\t\n",
    "\t#with tf.Session() as sess:\n",
    "\t#\tif FLAGS.is_train:\n",
    "\t#\t\tinput_setup(FLAGS)\t\t\t\t#制作数据集\n",
    "\t#\t\tnx, ny = 0 , 0\n",
    "\t#\telse:\n",
    "\t#\t\tnx, ny = input_setup(FLAGS)\n",
    "\t\n",
    "\tbackward(0,0)\n",
    "\t#backward(nx,ny)\n",
    "\t\t\n",
    "\t\n",
    "if __name__ == '__main__':\n",
    "\ttf.app.run()"
   ]
  },
  {
   "cell_type": "code",
   "execution_count": null,
   "metadata": {
    "collapsed": true
   },
   "outputs": [],
   "source": []
  },
  {
   "cell_type": "code",
   "execution_count": null,
   "metadata": {
    "collapsed": true
   },
   "outputs": [],
   "source": []
  }
 ],
 "metadata": {
  "kernelspec": {
   "display_name": "Python 3",
   "language": "python",
   "name": "python3"
  },
  "language_info": {
   "codemirror_mode": {
    "name": "ipython",
    "version": 3
   },
   "file_extension": ".py",
   "mimetype": "text/x-python",
   "name": "python",
   "nbconvert_exporter": "python",
   "pygments_lexer": "ipython3",
   "version": "3.6.1"
  }
 },
 "nbformat": 4,
 "nbformat_minor": 2
}
