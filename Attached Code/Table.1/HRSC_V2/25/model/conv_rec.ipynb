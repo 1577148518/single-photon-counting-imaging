{
 "cells": [
  {
   "cell_type": "code",
   "execution_count": 1,
   "metadata": {
    "scrolled": true
   },
   "outputs": [
    {
     "name": "stdout",
     "output_type": "stream",
     "text": [
      "start.......\n",
      "rate is  0.25\n",
      "x: Tensor(\"Placeholder:0\", shape=(?, 128, 128, 1), dtype=float32)\n",
      "div_num: 8\n",
      "img: Tensor(\"concat_62:0\", shape=(?, 128, 128, 1), dtype=float32)\n",
      "conv1_w: <tf.Variable 'Variable:0' shape=(32, 32, 1, 256) dtype=float32_ref>\n",
      "conv1: Tensor(\"Conv2D:0\", shape=(?, 4, 4, 256), dtype=float32)\n",
      "pixel1 Tensor(\"Reshape_1:0\", shape=(?, 64, 64, 1), dtype=float32)\n",
      "recov_conv1_w: <tf.Variable 'Variable_1:0' shape=(16, 16, 1, 1024) dtype=float32_ref>\n",
      "recov_conv1: Tensor(\"Relu:0\", shape=(?, 4, 4, 1024), dtype=float32)\n",
      "pixel2 Tensor(\"Reshape_3:0\", shape=(?, 128, 128, 1), dtype=float32)\n",
      "div_num: 8\n",
      " [*] Reading checkpoints...\n",
      "INFO:tensorflow:Restoring parameters from checkpoint\\Autoencoder_128\\Autoencoder.model-156300\n",
      " [*] Load SUCCESS\n",
      "Testing...\n"
     ]
    },
    {
     "ename": "SystemExit",
     "evalue": "",
     "output_type": "error",
     "traceback": [
      "An exception has occurred, use %tb to see the full traceback.\n",
      "\u001b[1;31mSystemExit\u001b[0m\n"
     ]
    },
    {
     "name": "stderr",
     "output_type": "stream",
     "text": [
      "C:\\Users\\DELL\\Anaconda3\\envs\\tensorflow\\lib\\site-packages\\IPython\\core\\interactiveshell.py:2870: UserWarning: To exit: use 'exit', 'quit', or Ctrl-D.\n",
      "  warn(\"To exit: use 'exit', 'quit', or Ctrl-D.\", stacklevel=1)\n"
     ]
    }
   ],
   "source": [
    "# %load main.py\n",
    "import tensorflow as tf\n",
    "from tools import make_dir\n",
    "from tools import input_setup\n",
    "\n",
    "from backward import backward\n",
    "\n",
    "flags = tf.app.flags\n",
    "flags.DEFINE_integer(\"epoch\",         10000,   \"Number of epoch [15000]\")\n",
    "flags.DEFINE_integer(\"batch_size\",    128,     \"The size of batch images [128]\")\n",
    "flags.DEFINE_integer(\"image_size\",    128,      \"The size of image to use [28]\")\n",
    "flags.DEFINE_integer(\"label_size\",    128,      \"The size of label to produce [28]\")\n",
    "flags.DEFINE_integer(\"conv_core\",     32,      \"The size of label to produce [28]\")\n",
    "flags.DEFINE_integer(\"c_dim\", 1, \"Dimension of image color. [1]\")\n",
    "flags.DEFINE_integer(\"sample_times\",   256, \"the sample_rate\")\n",
    "flags.DEFINE_float(\"learning_rate\",   0.00001,   \"The learning rate of gradient descent algorithm [1e-4]\")\n",
    "flags.DEFINE_float(\"learding_rate_delay\",1,\"The learning rate decay\")\n",
    "flags.DEFINE_float(\"REGULARIZER\",0.0001,\"REGULARIZER\")\n",
    "flags.DEFINE_integer(\"scale\", 3, \"The size of scale factor for preprocessing input image [3]\")\n",
    "flags.DEFINE_integer(\"div_fac\",   2, \"the div fac\")\n",
    "flags.DEFINE_integer(\"stride\", 10, \"The size of stride to apply input image [14]\")\n",
    "flags.DEFINE_string(\"checkpoint_dir\", \"checkpoint\", \"Name of checkpoint directory [checkpoint]\")\n",
    "flags.DEFINE_string(\"sample_dir\", \"sample\", \"Name of sample directory [sample]\")\n",
    "flags.DEFINE_boolean(\"is_train\", False, \"True for training, False for testing [True]\")\n",
    "\n",
    "FLAGS = flags.FLAGS\n",
    "\n",
    "def main(_):\n",
    "\tgpu_options = tf.GPUOptions(per_process_gpu_memory_fraction=0.68)  \n",
    "\tsess = tf.Session(config=tf.ConfigProto(gpu_options=gpu_options))\n",
    "\tprint(\"start.......\")\n",
    "\tprint(\"rate is \",FLAGS.sample_times/1024)\n",
    "\t\n",
    "\tmake_dir()\n",
    "\t\n",
    "\twith tf.Session() as sess:\n",
    "\t\tif FLAGS.is_train:\n",
    "\t\t\tinput_setup(FLAGS)\t\t\t\t#制作数据集\n",
    "\t\t\tnx, ny = 0 , 0\n",
    "\t\telse:\n",
    "\t\t\tnx, ny = input_setup(FLAGS)\n",
    "\t\n",
    "\t#backward(0,0)\n",
    "\tbackward(nx,ny)\n",
    "\t\t\n",
    "\t\n",
    "if __name__ == '__main__':\n",
    "\ttf.app.run()"
   ]
  },
  {
   "cell_type": "code",
   "execution_count": null,
   "metadata": {
    "collapsed": true
   },
   "outputs": [],
   "source": []
  },
  {
   "cell_type": "code",
   "execution_count": null,
   "metadata": {
    "collapsed": true
   },
   "outputs": [],
   "source": []
  }
 ],
 "metadata": {
  "kernelspec": {
   "display_name": "Python 3",
   "language": "python",
   "name": "python3"
  }
 },
 "nbformat": 4,
 "nbformat_minor": 2
}
