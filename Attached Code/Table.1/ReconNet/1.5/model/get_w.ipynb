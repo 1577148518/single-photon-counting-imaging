{
 "cells": [
  {
   "cell_type": "code",
   "execution_count": 1,
   "metadata": {},
   "outputs": [
    {
     "name": "stdout",
     "output_type": "stream",
     "text": [
      "starting......\n",
      "Variable is: {'Variable_1': [16], 'Variable_12': [1, 1, 64, 32], 'Variable_23': [64], 'Variable': [1024, 16], 'Variable_3': [1024], 'Variable_10': [11, 11, 1, 64], 'Variable_2': [16, 1024], 'Variable_11': [64], 'Variable_13': [32], 'Variable_7': [32], 'Variable_14': [7, 7, 32, 1], 'Variable_6': [1, 1, 64, 32], 'Variable_15': [1], 'Variable_5': [64], 'Variable_16': [11, 11, 1, 64], 'Variable_4': [11, 11, 1, 64], 'Variable_17': [64], 'Variable_18': [1, 1, 64, 32], 'Variable_19': [32], 'Variable_20': [7, 7, 32, 1], 'Variable_21': [1], 'Variable_22': [11, 11, 1, 64], 'Variable_24': [1, 1, 64, 32], 'Variable_25': [32], 'Variable_26': [7, 7, 32, 1], 'Variable_27': [1], 'Variable_28': [], 'Variable_8': [7, 7, 32, 1], 'Variable_9': [1]}\n",
      "[[ 1.0202461e-02  5.9043714e-03 -3.2782238e-03 ...  1.9361479e-02\n",
      "   9.8803053e-03  7.5666973e-04]\n",
      " [ 1.1389877e-02  8.1121651e-03 -3.9178873e-03 ...  2.0188794e-02\n",
      "   1.3584416e-02 -1.5123785e-04]\n",
      " [ 1.3364282e-02  6.2032826e-03 -5.8389185e-03 ...  2.1084115e-02\n",
      "   1.5722161e-02  2.4801845e-04]\n",
      " ...\n",
      " [ 3.8095268e-03 -6.5802531e-03 -5.4961569e-03 ... -9.3322592e-03\n",
      "   1.4211106e-02 -2.0603559e-04]\n",
      " [ 2.9074412e-03 -6.1822324e-03 -7.2336434e-03 ... -1.1352882e-02\n",
      "   1.6084610e-02  8.0875623e-05]\n",
      " [-1.6255060e-03 -3.2789640e-03 -5.0887270e-03 ... -1.0021112e-02\n",
      "   1.6460394e-02  1.2130038e-04]]\n",
      "(1024, 16)\n"
     ]
    }
   ],
   "source": [
    "# %load get_weight.py\n",
    "from tensorflow.python import pywrap_tensorflow\n",
    "import tensorflow as tf\n",
    "import scipy.io as sio\n",
    "import pickle\n",
    "import numpy as np\n",
    "\n",
    "print(\"starting......\")\n",
    "# 读取存储在checkpoint里的各层权重\n",
    "model_dir = '.\\\\checkpoint\\\\Autoencoder_32\\\\Autoencoder.model-75600'\n",
    "reader = pywrap_tensorflow.NewCheckpointReader(model_dir)\n",
    "var_to_shape_map = reader.get_variable_to_shape_map()\n",
    "\n",
    "pkl_dict = {}      #创建一个字典\n",
    "for key in sorted(var_to_shape_map):\n",
    "    pkl_dict[key] = reader.get_tensor(key) # numpy.ndarray\n",
    "\n",
    "print(\"Variable is:\",var_to_shape_map)\n",
    "output = open('./data/data_0.02.pkl', 'wb')   #写入文件 \n",
    "pickle.dump(pkl_dict, output)\n",
    "output.close()\n",
    "\n",
    "pkl_file = open('./data/data_0.02.pkl', 'rb')\n",
    "data = pickle.load(pkl_file) \n",
    "\n",
    "fcw_1 = data['Variable']\n",
    "\n",
    "print(fcw_1)\n",
    "print(fcw_1.shape)\n",
    "sio.savemat(\"./data/data_0.02.mat\", {\"fcw_1\": fcw_1})#储存为.mat格式"
   ]
  },
  {
   "cell_type": "code",
   "execution_count": null,
   "metadata": {
    "collapsed": true
   },
   "outputs": [],
   "source": []
  }
 ],
 "metadata": {
  "kernelspec": {
   "display_name": "Python [conda env:tensorflow]",
   "language": "python",
   "name": "conda-env-tensorflow-py"
  },
  "language_info": {
   "codemirror_mode": {
    "name": "ipython",
    "version": 3
   },
   "file_extension": ".py",
   "mimetype": "text/x-python",
   "name": "python",
   "nbconvert_exporter": "python",
   "pygments_lexer": "ipython3",
   "version": "3.6.2"
  }
 },
 "nbformat": 4,
 "nbformat_minor": 2
}
