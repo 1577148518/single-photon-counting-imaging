{
 "cells": [
  {
   "cell_type": "code",
   "execution_count": 1,
   "metadata": {
    "scrolled": true
   },
   "outputs": [
    {
     "name": "stdout",
     "output_type": "stream",
     "text": [
      "start.......\n",
      "compress rate is: 0.0478515625\n",
      "(512, 512)\n",
      " [*] Reading checkpoints...\n",
      "INFO:tensorflow:Restoring parameters from checkpoint\\Autoencoder_32\\Autoencoder.model-10200\n",
      " [*] Load SUCCESS\n",
      "Testing...\n",
      "***************************************\n",
      "***************************************\n"
     ]
    },
    {
     "ename": "SystemExit",
     "evalue": "",
     "output_type": "error",
     "traceback": [
      "An exception has occurred, use %tb to see the full traceback.\n",
      "\u001b[1;31mSystemExit\u001b[0m\n"
     ]
    },
    {
     "name": "stderr",
     "output_type": "stream",
     "text": [
      "C:\\Users\\DELL\\Anaconda3\\envs\\tensorflow\\lib\\site-packages\\IPython\\core\\interactiveshell.py:2870: UserWarning: To exit: use 'exit', 'quit', or Ctrl-D.\n",
      "  warn(\"To exit: use 'exit', 'quit', or Ctrl-D.\", stacklevel=1)\n"
     ]
    }
   ],
   "source": [
    "# %load main.py\n",
    "import tensorflow as tf\n",
    "from tools import make_dir\n",
    "from tools import input_setup\n",
    "\n",
    "from backward import backward\n",
    "\n",
    "flags = tf.app.flags\n",
    "flags.DEFINE_integer(\"epoch\",         10000,   \"Number of epoch [15000]\")\n",
    "flags.DEFINE_integer(\"batch_size\",    128,     \"The size of batch images [128]\")\n",
    "flags.DEFINE_integer(\"image_size\",    32,      \"The size of image to use [28]\")\n",
    "flags.DEFINE_integer(\"label_size\",    32,      \"The size of label to produce [28]\")\n",
    "flags.DEFINE_integer(\"compress_size\", 49,\t   \"The size of compress matrix to produce [14]\")\n",
    "flags.DEFINE_integer(\"c_dim\", 1, \"Dimension of image color. [1]\")\n",
    "flags.DEFINE_float(\"learning_rate\",   0.00001,   \"The learning rate of gradient descent algorithm [1e-4]\")\n",
    "flags.DEFINE_float(\"learding_rate_delay\",1,\"The learning rate decay\")\n",
    "flags.DEFINE_float(\"REGULARIZER\",0.0001,\"REGULARIZER\")\n",
    "flags.DEFINE_integer(\"scale\", 3, \"The size of scale factor for preprocessing input image [3]\")\n",
    "flags.DEFINE_integer(\"stride\", 10, \"The size of stride to apply input image [14]\")\n",
    "flags.DEFINE_string(\"checkpoint_dir\", \"checkpoint\", \"Name of checkpoint directory [checkpoint]\")\n",
    "flags.DEFINE_string(\"sample_dir\", \"sample\", \"Name of sample directory [sample]\")\n",
    "flags.DEFINE_boolean(\"is_train\", False, \"True for training, False for testing [True]\")\n",
    "FLAGS = flags.FLAGS\n",
    "\n",
    "def main(_):\n",
    "\tgpu_options = tf.GPUOptions(per_process_gpu_memory_fraction=0.05)  \n",
    "\tsess = tf.Session(config=tf.ConfigProto(gpu_options=gpu_options))\n",
    "\tprint(\"start.......\")\n",
    "\t\n",
    "\tmake_dir()\n",
    "\t\n",
    "\twith tf.Session() as sess:\n",
    "\t\tprint(\"compress rate is:\",FLAGS.compress_size / FLAGS.image_size/FLAGS.image_size)\n",
    "\t\tif FLAGS.is_train:\n",
    "\t\t\tinput_setup(FLAGS)\t\t\t\t#制作数据集\n",
    "\t\t\tnx, ny = 0 , 0\n",
    "\t\telse:\n",
    "\t\t\tnx, ny = input_setup(FLAGS)\n",
    "\t\n",
    "\tbackward(nx,ny)\n",
    "\t\t\n",
    "\t\n",
    "if __name__ == '__main__':\n",
    "\ttf.app.run()"
   ]
  },
  {
   "cell_type": "code",
   "execution_count": null,
   "metadata": {
    "collapsed": true
   },
   "outputs": [],
   "source": [
    "import numpy as np\n",
    "import random\n",
    "a = [1,2,3]\n",
    "b = [4,5,6]\n",
    "\n",
    "c = []\n",
    "\n",
    "for i in range(len(a)):\n",
    "    print(a[i])\n",
    "    print(b[i])\n",
    "    c.append([a[i],b[i]])\n",
    "print(c)\n",
    "random.shuffle(c)\n",
    "print(c)\n",
    "random.shuffle(c)\n",
    "print(c)\n",
    "random.shuffle(c)\n",
    "print(c)\n",
    "random.shuffle(c)\n",
    "print(c)\n",
    "\n",
    "d = c[0]\n",
    "print(d)"
   ]
  },
  {
   "cell_type": "code",
   "execution_count": null,
   "metadata": {
    "collapsed": true
   },
   "outputs": [],
   "source": []
  }
 ],
 "metadata": {
  "kernelspec": {
   "display_name": "Python 3",
   "language": "python",
   "name": "python3"
  }
 },
 "nbformat": 4,
 "nbformat_minor": 2
}
