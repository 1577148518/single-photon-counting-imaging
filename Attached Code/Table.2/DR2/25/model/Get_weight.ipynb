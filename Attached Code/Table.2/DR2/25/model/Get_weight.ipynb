{
 "cells": [
  {
   "cell_type": "code",
   "execution_count": 2,
   "metadata": {},
   "outputs": [
    {
     "name": "stdout",
     "output_type": "stream",
     "text": [
      "[[ 1.0144992e-02  5.9067840e-03 -3.3036214e-03 ...  1.9462580e-02\n",
      "   9.8614171e-03  7.5666973e-04]\n",
      " [ 1.1317865e-02  8.1405547e-03 -3.9379909e-03 ...  2.0311898e-02\n",
      "   1.3544161e-02 -1.5123785e-04]\n",
      " [ 1.3423234e-02  6.2086480e-03 -5.8943154e-03 ...  2.1189475e-02\n",
      "   1.5722005e-02  2.4801845e-04]\n",
      " ...\n",
      " [ 3.8129801e-03 -6.5821130e-03 -5.4931133e-03 ... -9.3024280e-03\n",
      "   1.4188365e-02 -2.0603559e-04]\n",
      " [ 2.8962737e-03 -6.2022153e-03 -7.2441599e-03 ... -1.1364503e-02\n",
      "   1.6109077e-02  8.0875623e-05]\n",
      " [-1.6526030e-03 -3.3407020e-03 -5.0463197e-03 ... -1.0025389e-02\n",
      "   1.6413433e-02  1.2130038e-04]]\n",
      "(1024, 16)\n"
     ]
    }
   ],
   "source": [
    "# %load get_weight.py\n",
    "from tensorflow.python import pywrap_tensorflow\n",
    "import tensorflow as tf\n",
    "import scipy.io as sio\n",
    "import pickle\n",
    "import numpy as np\n",
    "\n",
    "# 读取存储在checkpoint里的各层权重\n",
    "model_dir = '.\\\\checkpoint\\\\Autoencoder_32\\\\Autoencoder.model-76800'\n",
    "reader = pywrap_tensorflow.NewCheckpointReader(model_dir)\n",
    "var_to_shape_map = reader.get_variable_to_shape_map()\n",
    "\n",
    "pkl_dict = {}      #创建一个字典\n",
    "for key in sorted(var_to_shape_map):\n",
    "    pkl_dict[key] = reader.get_tensor(key) # numpy.ndarray\n",
    "\n",
    "#print(\"pkl_dict is:\",pkl_dict)\n",
    "\n",
    "pkl_file = open('./data/data_0.02.pkl', 'rb')\n",
    "data = pickle.load(pkl_file) \n",
    "#print(\"data is:\",data)\n",
    "\n",
    "fcw_1 = data['Variable']\n",
    "\n",
    "print(fcw_1)\n",
    "print(fcw_1.shape)\n",
    "sio.savemat(\"./data/data_0.02.mat\", {\"fcw_1\": fcw_1})#储存为.mat格式"
   ]
  },
  {
   "cell_type": "code",
   "execution_count": null,
   "metadata": {
    "collapsed": true
   },
   "outputs": [],
   "source": []
  }
 ],
 "metadata": {
  "kernelspec": {
   "display_name": "Python [conda env:tensorflow]",
   "language": "python",
   "name": "conda-env-tensorflow-py"
  }
 },
 "nbformat": 4,
 "nbformat_minor": 2
}
